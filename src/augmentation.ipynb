{
 "cells": [
  {
   "cell_type": "code",
   "execution_count": 2,
   "metadata": {},
   "outputs": [],
   "source": [
    "import albumentations as A\n",
    "from matplotlib import pyplot as plt\n",
    "import cv2\n",
    "\n",
    "BOX_COLOR = (255, 0, 0) # Red\n",
    "TEXT_COLOR = (255, 255, 255) # White\n"
   ]
  },
  {
   "cell_type": "code",
   "execution_count": 5,
   "metadata": {},
   "outputs": [
    {
     "name": "stdout",
     "output_type": "stream",
     "text": [
      "3\n",
      "[[0.090972, 0.279861, 0.181944, 0.170833], [0.454861, 0.505556, 0.443056, 0.236111], [0.100694, 0.099306, 0.198611, 0.104167]]\n"
     ]
    }
   ],
   "source": [
    "bboxes = []\n",
    "with open('../data/train/labels/train/1.txt') as f:    \n",
    "    box_params = f.readlines()\n",
    "    for line in box_params:\n",
    "        params = line.split(' ')\n",
    "        params.pop(0)\n",
    "        for i in range(0, len(params)):\n",
    "            params[i] = float(params[i])\n",
    "        bboxes.append(params)\n",
    "\n",
    "print(len(bboxes))\n",
    "print(bboxes)\n"
   ]
  },
  {
   "cell_type": "code",
   "execution_count": 6,
   "metadata": {},
   "outputs": [
    {
     "data": {
      "text/plain": [
       "-1"
      ]
     },
     "execution_count": 6,
     "metadata": {},
     "output_type": "execute_result"
    }
   ],
   "source": [
    "class_labels = [0]*len(bboxes)\n",
    "category_id_to_name = {0: 'pohole'}\n",
    "\n",
    "transform = A.Compose([\n",
    "    A.HorizontalFlip(p=0.5),\n",
    "    A.RandomBrightnessContrast(p=0.2),\n",
    "], bbox_params=A.BboxParams(format='yolo', label_fields = ['class_labels']))\n",
    "\n",
    "# Read an image with OpenCV and convert it to the RGB colorspace\n",
    "image = cv2.imread(\"../data/train/images/train/1.jpg\")\n",
    "image = cv2.cvtColor(image, cv2.COLOR_BGR2RGB)\n",
    "\n",
    "transformed = transform(image=image, bboxes=bboxes, class_labels=class_labels)\n",
    "transformed_image = transformed['image']\n",
    "transformed_bboxes = transformed['bboxes']\n",
    "transformed_class_labels = transformed['class_labels']\n",
    "cv2.imshow('aug', transformed_image)\n",
    "cv2.waitKey(0)\n",
    "# print(transformed_image)\n"
   ]
  },
  {
   "cell_type": "code",
   "execution_count": null,
   "metadata": {},
   "outputs": [],
   "source": []
  }
 ],
 "metadata": {
  "kernelspec": {
   "display_name": "Python 3",
   "language": "python",
   "name": "python3"
  },
  "language_info": {
   "codemirror_mode": {
    "name": "ipython",
    "version": 3
   },
   "file_extension": ".py",
   "mimetype": "text/x-python",
   "name": "python",
   "nbconvert_exporter": "python",
   "pygments_lexer": "ipython3",
   "version": "3.10.4 (tags/v3.10.4:9d38120, Mar 23 2022, 23:13:41) [MSC v.1929 64 bit (AMD64)]"
  },
  "orig_nbformat": 4,
  "vscode": {
   "interpreter": {
    "hash": "df95319d8ce4e1d89f5365ae10992bc1f65da593082b1d264e8f529830ec2f02"
   }
  }
 },
 "nbformat": 4,
 "nbformat_minor": 2
}
